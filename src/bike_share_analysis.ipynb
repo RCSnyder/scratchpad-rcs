{
 "cells": [
  {
   "cell_type": "code",
   "execution_count": 1,
   "id": "e663c844-7b09-4223-998b-a62283435f23",
   "metadata": {},
   "outputs": [],
   "source": [
    "# Extract bikeshare data and analyze when bikes should have bounties"
   ]
  },
  {
   "cell_type": "code",
   "execution_count": null,
   "id": "e537a20f-9b6d-4603-9455-31b63d72e3f3",
   "metadata": {},
   "outputs": [],
   "source": []
  }
 ],
 "metadata": {
  "kernelspec": {
   "display_name": "Python 3 (ipykernel)",
   "language": "python",
   "name": "python3"
  },
  "language_info": {
   "codemirror_mode": {
    "name": "ipython",
    "version": 3
   },
   "file_extension": ".py",
   "mimetype": "text/x-python",
   "name": "python",
   "nbconvert_exporter": "python",
   "pygments_lexer": "ipython3",
   "version": "3.12.3"
  }
 },
 "nbformat": 4,
 "nbformat_minor": 5
}
